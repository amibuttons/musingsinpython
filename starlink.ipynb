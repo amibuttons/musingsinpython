{
 "cells": [
  {
   "cell_type": "code",
   "execution_count": 1,
   "id": "2186648b",
   "metadata": {},
   "outputs": [
    {
     "ename": "ModuleNotFoundError",
     "evalue": "No module named 'sgp4'",
     "output_type": "error",
     "traceback": [
      "\u001b[0;31m---------------------------------------------------------------------------\u001b[0m",
      "\u001b[0;31mModuleNotFoundError\u001b[0m                       Traceback (most recent call last)",
      "\u001b[0;32m<ipython-input-1-56352a8da25b>\u001b[0m in \u001b[0;36m<module>\u001b[0;34m\u001b[0m\n\u001b[0;32m----> 1\u001b[0;31m \u001b[0;32mfrom\u001b[0m \u001b[0mskyfield\u001b[0m\u001b[0;34m.\u001b[0m\u001b[0mapi\u001b[0m \u001b[0;32mimport\u001b[0m \u001b[0mload\u001b[0m\u001b[0;34m,\u001b[0m \u001b[0mwgs84\u001b[0m\u001b[0;34m\u001b[0m\u001b[0m\n\u001b[0m\u001b[1;32m      2\u001b[0m \u001b[0;32mimport\u001b[0m \u001b[0mfolium\u001b[0m\u001b[0;34m\u001b[0m\u001b[0m\n\u001b[1;32m      3\u001b[0m \u001b[0;32mimport\u001b[0m \u001b[0mmath\u001b[0m\u001b[0;34m\u001b[0m\u001b[0m\n\u001b[1;32m      4\u001b[0m \u001b[0;34m\u001b[0m\u001b[0m\n\u001b[1;32m      5\u001b[0m \u001b[0mts\u001b[0m \u001b[0;34m=\u001b[0m \u001b[0mload\u001b[0m\u001b[0;34m.\u001b[0m\u001b[0mtimescale\u001b[0m\u001b[0;34m(\u001b[0m\u001b[0;34m)\u001b[0m\u001b[0;34m\u001b[0m\u001b[0m\n",
      "\u001b[0;32m/var/mobile/Containers/Data/Application/51BA6FF9-6737-4A8B-8E86-55C47D223C93/Documents/site-packages/skyfield/api.py\u001b[0m in \u001b[0;36m<module>\u001b[0;34m\u001b[0m\n\u001b[1;32m     10\u001b[0m \u001b[0;32mfrom\u001b[0m \u001b[0;34m.\u001b[0m\u001b[0mconstants\u001b[0m \u001b[0;32mimport\u001b[0m \u001b[0mB1950\u001b[0m\u001b[0;34m,\u001b[0m \u001b[0mT0\u001b[0m\u001b[0;34m,\u001b[0m \u001b[0mpi\u001b[0m\u001b[0;34m,\u001b[0m \u001b[0mtau\u001b[0m\u001b[0;34m\u001b[0m\u001b[0m\n\u001b[1;32m     11\u001b[0m \u001b[0;32mfrom\u001b[0m \u001b[0;34m.\u001b[0m\u001b[0mconstellationlib\u001b[0m \u001b[0;32mimport\u001b[0m \u001b[0mload_constellation_map\u001b[0m\u001b[0;34m,\u001b[0m \u001b[0mload_constellation_names\u001b[0m\u001b[0;34m\u001b[0m\u001b[0m\n\u001b[0;32m---> 12\u001b[0;31m \u001b[0;32mfrom\u001b[0m \u001b[0;34m.\u001b[0m\u001b[0miokit\u001b[0m \u001b[0;32mimport\u001b[0m \u001b[0mLoader\u001b[0m\u001b[0;34m,\u001b[0m \u001b[0mload_file\u001b[0m\u001b[0;34m\u001b[0m\u001b[0m\n\u001b[0m\u001b[1;32m     13\u001b[0m \u001b[0;32mfrom\u001b[0m \u001b[0;34m.\u001b[0m\u001b[0mplanetarylib\u001b[0m \u001b[0;32mimport\u001b[0m \u001b[0mPlanetaryConstants\u001b[0m\u001b[0;34m\u001b[0m\u001b[0m\n\u001b[1;32m     14\u001b[0m \u001b[0;32mfrom\u001b[0m \u001b[0;34m.\u001b[0m\u001b[0mpositionlib\u001b[0m \u001b[0;32mimport\u001b[0m \u001b[0mposition_from_radec\u001b[0m\u001b[0;34m,\u001b[0m \u001b[0mposition_of_radec\u001b[0m\u001b[0;34m\u001b[0m\u001b[0m\n",
      "\u001b[0;32m/var/mobile/Containers/Data/Application/51BA6FF9-6737-4A8B-8E86-55C47D223C93/Documents/site-packages/skyfield/iokit.py\u001b[0m in \u001b[0;36m<module>\u001b[0;34m\u001b[0m\n\u001b[1;32m     20\u001b[0m )\n\u001b[1;32m     21\u001b[0m \u001b[0;32mfrom\u001b[0m \u001b[0;34m.\u001b[0m\u001b[0mjpllib\u001b[0m \u001b[0;32mimport\u001b[0m \u001b[0mSpiceKernel\u001b[0m\u001b[0;34m\u001b[0m\u001b[0m\n\u001b[0;32m---> 22\u001b[0;31m \u001b[0;32mfrom\u001b[0m \u001b[0;34m.\u001b[0m\u001b[0msgp4lib\u001b[0m \u001b[0;32mimport\u001b[0m \u001b[0mEarthSatellite\u001b[0m\u001b[0;34m\u001b[0m\u001b[0m\n\u001b[0m\u001b[1;32m     23\u001b[0m \u001b[0;32mfrom\u001b[0m \u001b[0;34m.\u001b[0m\u001b[0mtimelib\u001b[0m \u001b[0;32mimport\u001b[0m \u001b[0mTimescale\u001b[0m\u001b[0;34m\u001b[0m\u001b[0m\n\u001b[1;32m     24\u001b[0m \u001b[0;34m\u001b[0m\u001b[0m\n",
      "\u001b[0;32m/var/mobile/Containers/Data/Application/51BA6FF9-6737-4A8B-8E86-55C47D223C93/Documents/site-packages/skyfield/sgp4lib.py\u001b[0m in \u001b[0;36m<module>\u001b[0;34m\u001b[0m\n\u001b[1;32m      5\u001b[0m     \u001b[0marray\u001b[0m\u001b[0;34m,\u001b[0m \u001b[0mconcatenate\u001b[0m\u001b[0;34m,\u001b[0m \u001b[0midentity\u001b[0m\u001b[0;34m,\u001b[0m \u001b[0mmultiply\u001b[0m\u001b[0;34m,\u001b[0m \u001b[0mones_like\u001b[0m\u001b[0;34m,\u001b[0m \u001b[0mrepeat\u001b[0m\u001b[0;34m,\u001b[0m\u001b[0;34m\u001b[0m\u001b[0m\n\u001b[1;32m      6\u001b[0m )\n\u001b[0;32m----> 7\u001b[0;31m \u001b[0;32mfrom\u001b[0m \u001b[0msgp4\u001b[0m\u001b[0;34m.\u001b[0m\u001b[0mapi\u001b[0m \u001b[0;32mimport\u001b[0m \u001b[0mSGP4_ERRORS\u001b[0m\u001b[0;34m,\u001b[0m \u001b[0mSatrec\u001b[0m\u001b[0;34m\u001b[0m\u001b[0m\n\u001b[0m\u001b[1;32m      8\u001b[0m \u001b[0;34m\u001b[0m\u001b[0m\n\u001b[1;32m      9\u001b[0m \u001b[0;32mfrom\u001b[0m \u001b[0;34m.\u001b[0m\u001b[0mconstants\u001b[0m \u001b[0;32mimport\u001b[0m \u001b[0mAU_KM\u001b[0m\u001b[0;34m,\u001b[0m \u001b[0mDAY_S\u001b[0m\u001b[0;34m,\u001b[0m \u001b[0mT0\u001b[0m\u001b[0;34m,\u001b[0m \u001b[0mtau\u001b[0m\u001b[0;34m\u001b[0m\u001b[0m\n",
      "\u001b[0;31mModuleNotFoundError\u001b[0m: No module named 'sgp4'"
     ]
    }
   ],
   "source": [
    "from skyfield.api import load, wgs84\n",
    "import folium\n",
    "import math\n",
    "\n",
    "ts = load.timescale()\n",
    "t = ts.now()\n",
    "starlink_url = 'http://celestrak.com/NORAD/elements/starlink.txt'\n",
    "satellites = load.tle_file(starlink_url)\n",
    "print('Loaded', len(satellites), 'satellites')\n",
    "\n",
    "world = folium.Map(location=[0,0],zoom_start=2, tiles=\"OpenStreetMap\")\n",
    "for s in satellites:\n",
    "    #if str(s).startswith('STARLINK-1945'):\n",
    "        #print(s)\n",
    "        position_s = s.at(t)\n",
    "        #print(position_s)\n",
    "        lat = position_s.subpoint().latitude.degrees\n",
    "        long = position_s.subpoint().longitude.degrees\n",
    "        if math.isnan(lat) or math.isnan(long):\n",
    "            print(position_s.message)\n",
    "        else: \n",
    "            popstring = 'Latitude:' + str(lat), 'Longitude' + str(long)\n",
    "            folium.CircleMarker(\n",
    "                location=[lat,long],\n",
    "                radius=1,\n",
    "                popup=popstring,\n",
    "                color=\"#3186cc\",\n",
    "                fill=True,\n",
    "                fill_color=\"#3186cc\",\n",
    "            ).add_to(world)\n",
    "\n",
    "        #folium.Marker(location=[lat,long],popup= popstring ).add_to(world)\n",
    "    \n",
    "\n",
    "\n",
    "world\n",
    "\n"
   ]
  }
 ],
 "metadata": {
  "kernelspec": {
   "display_name": "Python 3",
   "language": "python",
   "name": "python3"
  },
  "language_info": {
   "codemirror_mode": {
    "name": "ipython",
    "version": 3
   },
   "file_extension": ".py",
   "mimetype": "text/x-python",
   "name": "python",
   "nbconvert_exporter": "python",
   "pygments_lexer": "ipython3",
   "version": "3.6.6+"
  }
 },
 "nbformat": 4,
 "nbformat_minor": 5
}
